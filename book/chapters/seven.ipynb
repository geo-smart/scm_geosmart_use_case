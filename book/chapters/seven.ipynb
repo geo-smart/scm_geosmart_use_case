{
 "cells": [
  {
   "cell_type": "markdown",
   "metadata": {
    "tags": []
   },
   "source": [
    "# Conclusion"
   ]
  },
  {
   "cell_type": "markdown",
   "metadata": {},
   "source": [
    "In this book, we developed a random forest model to map snow-covered areas (SCA) from the high-resolution Planet imagery. We demonstrated the influence of four main parameters on model performance, including the number of samples, the number of features, the number of trees, and the tree depth. The optimal parameters determined by these tests are used in the SCA model generation.\n",
    "\n",
    "The final model shows very precise performance in predicting binary SCA with overall model accuracy of 1.00 and 0.94 at 3-meter spatial resolution when evaluated by the testing subset and the SCA derived from Airborne Snow Observatory (ASO) snow depth dataset, respectively. The model predicted Planet SCA exhibits much higher accuracy for open areas than forested  areas when evaluated by the ASO derived SCA, with an overall accuracy of 0.95 and 0.85, respectively. While the uncertainties in both SCA datasets are not negligible, the main mismatch between Planet SCA and the ASO SCA is caused by the difference in observation sensors. ASO SCA relies on a lidar sensor that can penetrate the canopy, while Planet uses optical sensors that only receive surface reflectance above the canopy. \n",
    "\n",
    "In summary, the SCA mapping model we demonstrated in this chapter is very feasible to set up and use. As we only used four bands of information in the model training, this method can be applied to most existing satellite observations like Landsat series imagery, Sentinel-2, and MODIS. The workflow generated in this chapter has critical implications for hydrological process monitoring and prediction, particularly in a world with more dramatic changes in snow cover.\n",
    "\n"
   ]
  }
 ],
 "metadata": {
  "kernelspec": {
   "display_name": "Python 3.10.5 64-bit",
   "language": "python",
   "name": "python3"
  },
  "language_info": {
   "codemirror_mode": {
    "name": "ipython",
    "version": 3
   },
   "file_extension": ".py",
   "mimetype": "text/x-python",
   "name": "python",
   "nbconvert_exporter": "python",
   "pygments_lexer": "ipython3",
   "version": "3.10.5"
  },
  "vscode": {
   "interpreter": {
    "hash": "af2b86a0d97d2bdb49befe19981ba48b79a904c391b62d75845b127da778abba"
   }
  }
 },
 "nbformat": 4,
 "nbformat_minor": 4
}
