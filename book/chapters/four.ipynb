{
 "cells": [
  {
   "attachments": {},
   "cell_type": "markdown",
   "metadata": {
    "tags": []
   },
   "source": [
    "# Hyperparameter Tuning"
   ]
  },
  {
   "cell_type": "markdown",
   "metadata": {},
   "source": [
    "Parameter selection is a very critical step in machine learning model fitting. In our experiment, we apply the random forest model to map Planet SCA, and there are several important parameters used in the model training process. To get an optimal set of these parameters as well as the sample size, we conducted a sensitivity test of the following four parameters on the overall model accuracy, including the number of samples, number of features, number of trees, and tree depth. \n",
    "Specifically, we will use the ‘RandomForestClassifier’ function from [sklearn.ensemble](https://scikit-learn.org/stable/modules/generated/sklearn.ensemble.RandomForestClassifier.html?highlight=randomforestclassifier#sklearn.ensemble.RandomForestClassifier) to define the random forest model. The main parameters to customize the model include ‘n_estimators’, ‘max_depth’, and ‘max_features’.\n",
    "\n",
    "* `n_estimators` is the number of trees in the forest. Normally, a larger tree number would result in a better model performance, but it also means a longer model training time. Additionally, the model performance will stop getting significantly better beyond a critical number of trees. \n",
    "\n",
    "* `max_features` is the size of feature subsets used in splitting a node. A good empirical value of max_features is ‘None’ for regression problems, which considers all features instead of a random subset, and ‘sqrt’ for classification tasks, which uses a random subset of size sqrt(n_features).\n",
    "\n",
    "* `max_depth` is the maximum depth of the tree. A deeper tree has more splits and capture more information about the data. Similar to the number of trees, the model performance will stop getting significantly better once tree depth is deep enough.\n",
    "\n"
   ]
  },
  {
   "cell_type": "markdown",
   "metadata": {},
   "source": [
    "First, we read the sample data using the code below. To reduce the calculation time, we select 10,000 samples instead of the entire 100,000 sample as the model performance does not show significant improvement when the sample size reaches around 4000 (section 4.1). We use k-fold cross-validation (k = 10) to evaluate model performance with 100 repeat times."
   ]
  },
  {
   "cell_type": "code",
   "execution_count": 23,
   "metadata": {},
   "outputs": [
    {
     "name": "stdout",
     "output_type": "stream",
     "text": [
      "Sample dimentions: (10000, 5)\n"
     ]
    }
   ],
   "source": [
    "# prepare data \n",
    "data = pd.read_csv('./data/samples/sample_10K.csv', index_col = False)\n",
    "print(\"Sample dimentions:\".format(), data.shape)\n",
    "data.head()\n",
    "X = data[['blue','green','red','nir']]\n",
    "y = data['label']"
   ]
  },
  {
   "cell_type": "markdown",
   "metadata": {},
   "source": [
    "#### 4.1. Number of samples\n",
    "Theoretically, the performance of random forest models can continually improve as the sample size increases. However, training a model with a large sample size would result in a high computational expense, and oftentimes, the model accuracy does not change significantly beyond a critical number of samples. \n",
    "\n",
    "We generated a custom function ‘get_model_size()’ to train random forest models with different sample size. We proportionately selected samples by changing ‘max_samples’ parameter. The “max_samples” argument can be set to a float between 0 and 1 to control the percentage of the training dataset to make the bootstrap sample used in each decision tree training. All custom functions are organized in the ‘functions_SCA_mapping.py’ and available to download in the GitHub repository for your interests.\n",
    "\n",
    "To reduce the calculation time, we only show the percentages ranging from 0.01 to 0.1 with a 0.01 interval, and the percentages ranging from 0.1 to 1.0 with a 0.1 interval in the experiment below. The result shows that the overall model accuracy improves with the increasing sample size when the percentage increases from 0.01 to 0.08 (i.e., 100 to 800 samples), followed by a very slight improvement with the percentage increases from 0.08 to 0.4 (i.e., 800 to 4 k samples). The model performance changes negligibaly after the sample size reaches 4000 (i.e., 0.4 percentage), meaning that the whole dataset can be very well represented by a subset with 4000 observations. Therefore, we will use 4000 as the optimal sample size to train the SCA model.\n"
   ]
  },
  {
   "cell_type": "code",
   "execution_count": 27,
   "metadata": {},
   "outputs": [
    {
     "name": "stdout",
     "output_type": "stream",
     "text": [
      ">Sample size: 100 Mean Score: 0.9971 (Score SD: 0.0016)\n",
      ">Sample size: 200 Mean Score: 0.9976 (Score SD: 0.0015)\n",
      ">Sample size: 300 Mean Score: 0.9978 (Score SD: 0.0014)\n",
      ">Sample size: 400 Mean Score: 0.9979 (Score SD: 0.0014)\n",
      ">Sample size: 500 Mean Score: 0.9980 (Score SD: 0.0014)\n",
      ">Sample size: 600 Mean Score: 0.9982 (Score SD: 0.0013)\n",
      ">Sample size: 700 Mean Score: 0.9983 (Score SD: 0.0013)\n",
      ">Sample size: 800 Mean Score: 0.9984 (Score SD: 0.0012)\n",
      ">Sample size: 900 Mean Score: 0.9985 (Score SD: 0.0012)\n",
      ">Sample size: 1000 Mean Score: 0.9985 (Score SD: 0.0012)\n",
      ">Sample size: 2000 Mean Score: 0.9985 (Score SD: 0.0012)\n",
      ">Sample size: 3000 Mean Score: 0.9986 (Score SD: 0.0011)\n",
      ">Sample size: 4000 Mean Score: 0.9987 (Score SD: 0.0011)\n",
      ">Sample size: 5000 Mean Score: 0.9987 (Score SD: 0.0011)\n",
      ">Sample size: 6000 Mean Score: 0.9987 (Score SD: 0.0011)\n",
      ">Sample size: 7000 Mean Score: 0.9987 (Score SD: 0.0011)\n",
      ">Sample size: 8000 Mean Score: 0.9987 (Score SD: 0.0011)\n",
      ">Sample size: 9000 Mean Score: 0.9987 (Score SD: 0.0011)\n"
     ]
    },
    {
     "data": {
      "image/png": "[encoded data removed]",
      "text/plain": [
       "<Figure size 720x360 with 1 Axes>"
      ]
     },
     "metadata": {
      "needs_background": "light"
     },
     "output_type": "display_data"
    }
   ],
   "source": [
    "# customize models with different sample sizes\n",
    "models = get_models_size()\n",
    "results, names = list(), list()\n",
    "for name, model in models.items():\n",
    "    # evaluate models using k-fold cross-validation\n",
    "    scores = evaluate_model(model, X, y)\n",
    "    results.append(scores)\n",
    "    names.append(name)\n",
    "    # print the mean and standard deviation of models \n",
    "    print('>%s   Mean Score: %.6f (Score SD: %.6f)' % ('Sample size: ' + str(int(float(name) * 10000)), scores.mean(), scores.std()))\n",
    "    \n",
    "# display model performance \n",
    "plt.figure(figsize=(10,5))\n",
    "plt.boxplot(results, labels=names, showmeans=True)\n",
    "plt.show()"
   ]
  },
  {
   "cell_type": "markdown",
   "metadata": {},
   "source": [
    "#### 4.2 Number of features \n",
    "The number of features for each split node is perhaps the most important feature to configure in our random forest model, and it is set via the ‘max_features’ parameter. To explore the influence of feature numbers on model accuracy, we tested model accuracy with the ‘max_features’ ranging from 1 to 4. The result shows that the median accuracy (green triangle) of the experiments with max_features = 4 is slightly higher than the other three max_features values, though no significant difference is observed among all four test sets.\n",
    "The default of max_features is the square root of the number of input features. This would be sqrt(4) or two features for our test dataset. However, the total feature size we have is already very small and the model shows slightly better performance when max_features = 4. Also, we do not want to lose any information from these four bands. Therefore, we decided to use the max_features = 4 in the SCA model training.\n"
   ]
  },
  {
   "cell_type": "code",
   "execution_count": 31,
   "metadata": {},
   "outputs": [
    {
     "name": "stdout",
     "output_type": "stream",
     "text": [
      ">Features: 1   Mean Score: 0.998757 (Score SD: 0.001093)\n",
      ">Features: 2   Mean Score: 0.998760 (Score SD: 0.001105)\n",
      ">Features: 3   Mean Score: 0.998799 (Score SD: 0.001109)\n",
      ">Features: 4   Mean Score: 0.998831 (Score SD: 0.001115)\n"
     ]
    },
    {
     "data": {
      "image/png": "[encoded data removed]",
      "text/plain": [
       "<Figure size 432x288 with 1 Axes>"
      ]
     },
     "metadata": {
      "needs_background": "light"
     },
     "output_type": "display_data"
    }
   ],
   "source": [
    "# customize models with different model feature sizes\n",
    "models = get_models_feature()\n",
    "# evaluate the models and store results\n",
    "results, names = list(), list()\n",
    "for name, model in models.items():\n",
    "    # evaluate models using k-fold cross-validation\n",
    "    scores = evaluate_model(model, X, y)\n",
    "    results.append(scores)\n",
    "    names.append(name)\n",
    "    # print the mean and standard deviation of models \n",
    "    # print('>%s %.3f (%.3f)' % (name, scores.mean(), scores.std()))\n",
    "    print('>%s   Mean Score: %.6f (Score SD: %.6f)' % ('Features: ' + name, scores.mean(), scores.std()))\n",
    "# display model performance \n",
    "plt.boxplot(results, labels=names, showmeans=True)\n",
    "plt.show()"
   ]
  },
  {
   "cell_type": "markdown",
   "metadata": {},
   "source": [
    "#### 4.3 Number of trees \n",
    "The number of trees is another key parameter to configure in a random forest model. The number of trees can be set via the “n_estimators'' and the default value is 100. The example below explores the effect of the number of trees on model performance. We set the ‘n_estimators’ to the values between 1 to 1,000, with only a few selected tree numbers displayed in the boxplot. Typically, when we increase the number of trees, the model performance increases but it will stabilize when we have enough trees. In this case, the change in model performance is negligible when the number of trees reaches 10, and thus we will use n_estimators = 10 in our SCA model.\n"
   ]
  },
  {
   "cell_type": "code",
   "execution_count": 32,
   "metadata": {},
   "outputs": [
    {
     "name": "stdout",
     "output_type": "stream",
     "text": [
      ">Tree numbers: 1   Mean Score: 0.998253 (Score SD: 0.001321)\n",
      ">Tree numbers: 2   Mean Score: 0.998478 (Score SD: 0.001219)\n",
      ">Tree numbers: 3   Mean Score: 0.998656 (Score SD: 0.001147)\n",
      ">Tree numbers: 4   Mean Score: 0.998602 (Score SD: 0.001150)\n",
      ">Tree numbers: 5   Mean Score: 0.998685 (Score SD: 0.001157)\n",
      ">Tree numbers: 10   Mean Score: 0.998702 (Score SD: 0.001104)\n",
      ">Tree numbers: 20   Mean Score: 0.998741 (Score SD: 0.001130)\n",
      ">Tree numbers: 50   Mean Score: 0.998726 (Score SD: 0.001134)\n",
      ">Tree numbers: 100   Mean Score: 0.998756 (Score SD: 0.001116)\n",
      ">Tree numbers: 200   Mean Score: 0.998770 (Score SD: 0.001110)\n",
      ">Tree numbers: 800   Mean Score: 0.998775 (Score SD: 0.001108)\n",
      ">Tree numbers: 1000   Mean Score: 0.998770 (Score SD: 0.001109)\n"
     ]
    },
    {
     "data": {
      "image/png": "[encoded data removed]",
      "text/plain": [
       "<Figure size 432x288 with 1 Axes>"
      ]
     },
     "metadata": {
      "needs_background": "light"
     },
     "output_type": "display_data"
    }
   ],
   "source": [
    "# customize models with different tree numbers\n",
    "models = get_models_tree()\n",
    "# evaluate the models and store results\n",
    "results, names = list(), list()\n",
    "for name, model in models.items():\n",
    "    # evaluate models using k-fold cross-validation\n",
    "    scores = evaluate_model(model, X, y)\n",
    "    results.append(scores)\n",
    "    names.append(name)\n",
    "    # print the mean and standard deviation of models \n",
    "    # print('>%s %.3f (%.3f)' % (name, scores.mean(), scores.std()))\n",
    "    print('>%s   Mean Score: %.6f (Score SD: %.6f)' % ('Tree numbers: ' + name, scores.mean(), scores.std()))\n",
    "# display model performance \n",
    "plt.boxplot(results, labels=names, showmeans=True)\n",
    "plt.show()"
   ]
  },
  {
   "cell_type": "markdown",
   "metadata": {},
   "source": [
    "#### 4.4 Tree depth \n",
    "The last parameter is the maximum depth of decision trees and can be set via ‘max_depth’. Ideally, we would like as many trees as possible to improve model performance, so the ‘max_depth’ is set to None by default, meaning no maximum depth. Reducing tree depth would make the ensemble converge a little earlier, but a large tree depth will lead to a longer computing time. We need a tree depth that is enough to split each node for our samples within an acceptable time. The example below explores the effect of maximum tree depth on model performance. The result shows that the model performance does not have a significant difference when the ‘max_depth’ is greater than 8 and stabilized when the tree depth is 10. So, we decided to set ‘max_depth’ to 10 in our SCA model. \n"
   ]
  },
  {
   "cell_type": "code",
   "execution_count": 33,
   "metadata": {},
   "outputs": [
    {
     "name": "stdout",
     "output_type": "stream",
     "text": [
      ">Tree Depth: 1   Mean Score: 0.998318 (Score SD: 0.001262)\n",
      ">Tree Depth: 2   Mean Score: 0.998482 (Score SD: 0.001183)\n",
      ">Tree Depth: 3   Mean Score: 0.998418 (Score SD: 0.001203)\n",
      ">Tree Depth: 4   Mean Score: 0.998477 (Score SD: 0.001177)\n",
      ">Tree Depth: 5   Mean Score: 0.998551 (Score SD: 0.001140)\n",
      ">Tree Depth: 6   Mean Score: 0.998602 (Score SD: 0.001157)\n",
      ">Tree Depth: 7   Mean Score: 0.998644 (Score SD: 0.001149)\n",
      ">Tree Depth: 8   Mean Score: 0.998708 (Score SD: 0.001122)\n",
      ">Tree Depth: 9   Mean Score: 0.998744 (Score SD: 0.001111)\n",
      ">Tree Depth: 10   Mean Score: 0.998758 (Score SD: 0.001112)\n",
      ">Tree Depth: 11   Mean Score: 0.998760 (Score SD: 0.001108)\n",
      ">Tree Depth: 12   Mean Score: 0.998755 (Score SD: 0.001116)\n",
      ">Tree Depth: 13   Mean Score: 0.998763 (Score SD: 0.001105)\n",
      ">Tree Depth: 14   Mean Score: 0.998752 (Score SD: 0.001119)\n",
      ">Tree Depth: 15   Mean Score: 0.998745 (Score SD: 0.001123)\n",
      ">Tree Depth: 16   Mean Score: 0.998761 (Score SD: 0.001113)\n",
      ">Tree Depth: 17   Mean Score: 0.998757 (Score SD: 0.001111)\n",
      ">Tree Depth: 18   Mean Score: 0.998760 (Score SD: 0.001113)\n",
      ">Tree Depth: 19   Mean Score: 0.998753 (Score SD: 0.001112)\n",
      ">Tree Depth: None   Mean Score: 0.998762 (Score SD: 0.001110)\n"
     ]
    },
    {
     "data": {
      "image/png": "[encoded data removed]",
      "text/plain": [
       "<Figure size 720x360 with 1 Axes>"
      ]
     },
     "metadata": {
      "needs_background": "light"
     },
     "output_type": "display_data"
    }
   ],
   "source": [
    "# customize models with different tree depths\n",
    "models = get_models_depth()\n",
    "# evaluate the models and store results\n",
    "results, names = list(), list()\n",
    "for name, model in models.items():\n",
    "     # evaluate models using k-fold cross-validation\n",
    "    scores = evaluate_model(model, X, y)\n",
    "    results.append(scores)\n",
    "    names.append(name)\n",
    "    # print the mean and standard deviation of models \n",
    "    # print('>%s %.3f (%.3f)' % (name, scores.mean(), scores.std()))\n",
    "    print('>%s   Mean Score: %.6f (Score SD: %.6f)' % ('Tree Depth: ' + name, scores.mean(), scores.std()))\n",
    "# display model performance \n",
    "plt.figure(figsize=(10,5))\n",
    "plt.boxplot(results, labels=names, showmeans=True)\n",
    "plt.show()"
   ]
  }
 ],
 "metadata": {
  "kernelspec": {
   "display_name": "Python 3",
   "language": "python",
   "name": "python3"
  },
  "language_info": {
   "codemirror_mode": {
    "name": "ipython",
    "version": 3
   },
   "file_extension": ".py",
   "mimetype": "text/x-python",
   "name": "python",
   "nbconvert_exporter": "python",
   "pygments_lexer": "ipython3",
   "version": "3.9.0 (tags/v3.9.0:9cf6752, Oct  5 2020, 15:23:07) [MSC v.1927 32 bit (Intel)]"
  },
  "vscode": {
   "interpreter": {
    "hash": "c446eef832ec964573dc49f36fd16bdbed40cbfbefbf557bc2dc78d9e7968689"
   }
  }
 },
 "nbformat": 4,
 "nbformat_minor": 4
}
